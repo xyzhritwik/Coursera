{
 "cells": [
  {
   "cell_type": "markdown",
   "id": "b6f7cbc8",
   "metadata": {},
   "source": [
    "# My Jupyter Notebook on IBM Watson Studio"
   ]
  },
  {
   "cell_type": "markdown",
   "id": "a540cb7b",
   "metadata": {},
   "source": [
    "__Hritwik__\n",
    "\n",
    "Data scientist"
   ]
  },
  {
   "cell_type": "markdown",
   "id": "2f792645",
   "metadata": {},
   "source": [
    "_I'm interested in Data Sciece because I like playing with data sets and when a ML or neural model take all of it to give output,it's magical._\n",
    "\n",
    "_Also the tools I get to use in this profession are pretty cool._"
   ]
  },
  {
   "cell_type": "markdown",
   "id": "a7e8152c",
   "metadata": {},
   "source": [
    "### This code is for creating pyramid using for loop in Python."
   ]
  },
  {
   "cell_type": "code",
   "execution_count": 37,
   "id": "adc8f099",
   "metadata": {},
   "outputs": [
    {
     "name": "stdout",
     "output_type": "stream",
     "text": [
      "     *\n",
      "    ***\n",
      "   *****\n",
      "  *******\n",
      " *********\n"
     ]
    }
   ],
   "source": [
    "for i in range(5):\n",
    "    print((5-i)*' '+((i+1)*'*')+((i)*'*'))\n"
   ]
  },
  {
   "cell_type": "markdown",
   "id": "b073af26",
   "metadata": {},
   "source": []
  },
  {
   "cell_type": "markdown",
   "id": "599262c5",
   "metadata": {},
   "source": [
    "1. First ordered list item\n",
    "2. Another item\n",
    "1. Actual numbers don't matter, just that it's a number\n",
    "4. And another item.\n",
    "\n",
    "+ Item1\n",
    "+ Item2\n",
    "+ Item3\n",
    "\n",
    "[This is hyperlink to Google's Homepage](http://www.google.com)\n"
   ]
  },
  {
   "cell_type": "code",
   "execution_count": null,
   "id": "374c980c",
   "metadata": {},
   "outputs": [],
   "source": []
  }
 ],
 "metadata": {
  "kernelspec": {
   "display_name": "Python 3 (ipykernel)",
   "language": "python",
   "name": "python3"
  },
  "language_info": {
   "codemirror_mode": {
    "name": "ipython",
    "version": 3
   },
   "file_extension": ".py",
   "mimetype": "text/x-python",
   "name": "python",
   "nbconvert_exporter": "python",
   "pygments_lexer": "ipython3",
   "version": "3.9.13"
  }
 },
 "nbformat": 4,
 "nbformat_minor": 5
}
